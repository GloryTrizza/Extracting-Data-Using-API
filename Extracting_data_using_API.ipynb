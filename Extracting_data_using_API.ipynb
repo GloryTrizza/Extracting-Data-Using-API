{
  "cells": [
    {
      "cell_type": "markdown",
      "metadata": {
        "id": "view-in-github",
        "colab_type": "text"
      },
      "source": [
        "<a href=\"https://colab.research.google.com/github/GloryTrizza/Extracting-Data-Using-API/blob/main/Extracting_data_using_API.ipynb\" target=\"_parent\"><img src=\"https://colab.research.google.com/assets/colab-badge.svg\" alt=\"Open In Colab\"/></a>"
      ]
    },
    {
      "cell_type": "markdown",
      "metadata": {
        "id": "HULU4tJ69A_A"
      },
      "source": [
        "<p style=\"text-align:center\">\n",
        "    <a href=\"https://skills.network/?utm_medium=Exinfluencer&utm_source=Exinfluencer&utm_content=000026UJ&utm_term=10006555&utm_id=NA-SkillsNetwork-Channel-SkillsNetworkCoursesIBMDeveloperSkillsNetworkPY0221ENSkillsNetwork23455645-2022-01-01\" target=\"_blank\">\n",
        "    <img src=\"https://cf-courses-data.s3.us.cloud-object-storage.appdomain.cloud/assets/logos/SN_web_lightmode.png\" width=\"200\" alt=\"Skills Network Logo\"  />\n",
        "    </a>\n",
        "</p>\n"
      ]
    },
    {
      "cell_type": "markdown",
      "metadata": {
        "id": "OveZMSl99A_E"
      },
      "source": [
        "# Extracting Data Using API\n"
      ]
    },
    {
      "cell_type": "markdown",
      "metadata": {
        "id": "HlQGa6ec9A_F"
      },
      "source": [
        "## Objectives\n",
        "\n",
        "*   Collect exchange rate data using an API\n",
        "*   Store the data as a CSV\n"
      ]
    },
    {
      "cell_type": "code",
      "execution_count": 3,
      "metadata": {
        "id": "1iagiW9M9A_G"
      },
      "outputs": [],
      "source": [
        "#!mamba install pandas==1.3.3 -y\n",
        "#!mamba install requests==2.26.0 -y"
      ]
    },
    {
      "cell_type": "markdown",
      "metadata": {
        "id": "GaKVoDV29A_H"
      },
      "source": [
        "## Imports\n",
        "\n",
        "Import any additional libraries you may need here.\n"
      ]
    },
    {
      "cell_type": "code",
      "execution_count": 4,
      "metadata": {
        "id": "kF67R29J9A_I"
      },
      "outputs": [],
      "source": [
        "import requests\n",
        "import pandas as pd"
      ]
    },
    {
      "cell_type": "markdown",
      "metadata": {
        "id": "AGDZc0T09A_I"
      },
      "source": [
        "## Extract Data Using an API\n"
      ]
    },
    {
      "cell_type": "markdown",
      "metadata": {
        "id": "ZQKogCLN9A_J"
      },
      "source": [
        "Using ExchangeRate-API we will extract currency exchange rate data. Use the below steps to get the access key and to get the data.\n",
        "\n",
        "1.  Open the url : [https://exchangeratesapi.io/](https://exchangeratesapi.io/?utm_medium=Exinfluencer&utm_source=Exinfluencer&utm_content=000026UJ&utm_term=10006555&utm_id=NA-SkillsNetwork-Channel-SkillsNetworkCoursesIBMDeveloperSkillsNetworkPY0221ENSkillsNetwork23455645-2022-01-01) and click on **Get Free API Key**.\n",
        "2.  Subscribe for Free plan and Sign-in with the Google Account.\n",
        "3.  Once the account is created you will be redirected to [https://apilayer.com](https://apilayer.com/?utm_medium=Exinfluencer&utm_source=Exinfluencer&utm_content=000026UJ&utm_term=10006555&utm_id=NA-SkillsNetwork-Channel-SkillsNetworkCoursesIBMDeveloperSkillsNetworkPY0221ENSkillsNetwork23455645-2022-01-01) website.\n",
        "4.  Now, click on the **user icon** and click **Account** as shown below:\n",
        "\n",
        "<img src=\"https://cf-courses-data.s3.us.cloud-object-storage.appdomain.cloud/IBMDeveloperSkillsNetwork-PY0221EN-SkillsNetwork/labs/module%206/Final%20Assignment/Images/account.png\"/>\n",
        "\n",
        "3.  Scroll down and you will get the API Key section. Copy the API key and use in the url in Question 1.\n"
      ]
    },
    {
      "cell_type": "markdown",
      "metadata": {
        "id": "TewG2JSx9A_J"
      },
      "source": [
        "### Call the API\n",
        "\n",
        "<b> Question 1</b> Using the `requests` library call the endpoint given above and save the text, remember the first few characters of the output:\n"
      ]
    },
    {
      "cell_type": "code",
      "execution_count": 5,
      "metadata": {
        "colab": {
          "base_uri": "https://localhost:8080/"
        },
        "id": "YAGgi5SI9A_K",
        "outputId": "63bb043c-cf4d-43f0-95a9-55e66927018b"
      },
      "outputs": [
        {
          "output_type": "stream",
          "name": "stdout",
          "text": [
            "['        \"AED\": 3.930313,', '        \"AFN\": 93.644203,', '        \"ALL\": 114.508653,', '        \"AMD\": 421.359703,', '        \"ANG\": 1.928859,', '        \"AOA\": 539.035365,', '        \"ARS\": 189.148195,', '        \"AUD\": 1.569729,', '        \"AWG\": 1.926307,', '        \"AZN\": 1.823539,', '        \"BAM\": 1.960585,', '        \"BBD\": 2.160861,', '        \"BDT\": 110.397938,', '        \"BGN\": 1.955849,', '        \"BHD\": 0.403491,', '        \"BIF\": 2206.691862,', '        \"BMD\": 1.070171,', '        \"BND\": 1.434339,', '        \"BOB\": 7.395206,', '        \"BRL\": 5.65789,', '        \"BSD\": 1.070206,', '        \"BTC\": 6.4497902e-05,', '        \"BTN\": 88.374764,', '        \"BWP\": 13.650709,', '        \"BYN\": 2.701352,', '        \"BYR\": 20975.344569,', '        \"BZD\": 2.157293,', '        \"CAD\": 1.449541,', '        \"CDF\": 2172.446789,', '        \"CHF\": 0.989346,', '        \"CLF\": 0.032908,', '        \"CLP\": 908.043976,', '        \"CNY\": 7.382363,', '        \"COP\": 5188.904283,', '        \"CRC\": 633.252548,', '        \"CUC\": 1.070171,', '        \"CUP\": 28.359522,', '        \"CVE\": 110.552797,', '        \"CZK\": 24.151654,', '        \"DJF\": 190.191148,', '        \"DKK\": 7.43621,', '        \"DOP\": 60.197519,', '        \"DZD\": 146.983631,', '        \"EGP\": 26.497644,', '        \"ERN\": 16.05256,', '        \"ETB\": 57.365295,', '        \"EUR\": 1,', '        \"FJD\": 2.376892,', '        \"FKP\": 0.887359,', '        \"GBP\": 0.884658,', '        \"GEL\": 2.893595,', '        \"GGP\": 0.887359,', '        \"GHS\": 572.438405,', '        \"GIP\": 0.887359,', '        \"GMD\": 66.297488,', '        \"GNF\": 9385.396904,', '        \"GTQ\": 8.398903,', '        \"GYD\": 223.914601,', '        \"HKD\": 8.357552,', '        \"HNL\": 26.406503,', '        \"HRK\": 7.536253,', '        \"HTG\": 158.392653,', '        \"HUF\": 399.27038,', '        \"IDR\": 16616.325513,', '        \"ILS\": 3.77583,', '        \"IMP\": 0.887359,', '        \"INR\": 88.55721,', '        \"IQD\": 1562.984222,', '        \"IRR\": 44786.641714,', '        \"ISK\": 151.504471,', '        \"JEP\": 0.887359,', '        \"JMD\": 162.357617,', '        \"JOD\": 0.759076,', '        \"JPY\": 140.347571,', '        \"KES\": 132.063128,', '        \"KGS\": 91.692632,', '        \"KHR\": 4405.892905,', '        \"KMF\": 493.994831,', '        \"KPW\": 963.148723,', '        \"KRW\": 1348.190683,', '        \"KWD\": 0.327269,', '        \"KYD\": 0.891901,', '        \"KZT\": 495.336125,', '        \"LAK\": 18562.110146,', '        \"LBP\": 1628.800089,', '        \"LKR\": 393.319213,', '        \"LRD\": 165.345403,', '        \"LSL\": 18.07559,', '        \"LTL\": 3.159936,', '        \"LVL\": 0.647336,', '        \"LYD\": 5.169332,', '        \"MAD\": 11.196665,', '        \"MDL\": 20.504562,', '        \"MGA\": 4781.522796,', '        \"MKD\": 61.761915,', '        \"MMK\": 2247.537489,', '        \"MNT\": 3677.374115,', '        \"MOP\": 8.591199,', '        \"MRO\": 382.050735,', '        \"MUR\": 47.087268,', '        \"MVR\": 16.491735,', '        \"MWK\": 1094.784935,', '        \"MXN\": 20.869152,', '        \"MYR\": 4.733904,', '        \"MZN\": 68.309396,', '        \"NAD\": 18.075586,', '        \"NGN\": 479.522464,', '        \"NIO\": 38.922509,', '        \"NOK\": 10.477629,', '        \"NPR\": 141.399904,', '        \"NZD\": 1.685574,', '        \"OMR\": 0.411982,', '        \"PAB\": 1.070241,', '        \"PEN\": 4.052777,', '        \"PGK\": 3.772393,', '        \"PHP\": 59.69452,', '        \"PKR\": 242.340543,', '        \"PLN\": 4.6886,', '        \"PYG\": 7881.046447,', '        \"QAR\": 3.896759,', '        \"RON\": 4.941019,', '        \"RSD\": 117.274691,', '        \"RUB\": 78.924982,', '        \"RWF\": 1141.872074,', '        \"SAR\": 4.021923,', '        \"SBD\": 8.844536,', '        \"SCR\": 14.345389,', '        \"SDG\": 612.676628,', '        \"SEK\": 11.158627,', '        \"SGD\": 1.433702,', '        \"SHP\": 1.474057,', '        \"SLE\": 20.247846,', '        \"SLL\": 20236.927188,', '        \"SOS\": 608.395931,', '        \"SRD\": 34.041099,', '        \"STD\": 22150.371608,', '        \"SVC\": 9.365196,', '        \"SYP\": 2688.326493,', '        \"SZL\": 18.075578,', '        \"THB\": 37.071106,', '        \"TJS\": 10.911428,', '        \"TMT\": 3.756299,', '        \"TND\": 3.343254,', '        \"TOP\": 2.505537,', '        \"TRY\": 20.021863,', '        \"TTD\": 7.272908,', '        \"TWD\": 32.801376,', '        \"TZS\": 2495.638294,', '        \"UAH\": 39.330508,', '        \"UGX\": 3981.267958,', '        \"USD\": 1.070171,', '        \"UYU\": 42.772541,', '        \"UZS\": 12012.665806,', '        \"VEF\": 1827968.514133,', '        \"VES\": 18.295427,', '        \"VND\": 25293.483106,', '        \"VUV\": 126.788459,', '        \"WST\": 2.89902,', '        \"XAF\": 657.579575,', '        \"XAG\": 0.044655,', '        \"XAU\": 0.000587,', '        \"XCD\": 2.89219,', '        \"XDR\": 0.804285,', '        \"XOF\": 660.295641,', '        \"XPF\": 120.184011,', '        \"YER\": 267.810592,', '        \"ZAR\": 18.200681,', '        \"ZMK\": 9632.823817,', '        \"ZMW\": 19.382053,', '        \"ZWL\": 344.59451']\n"
          ]
        }
      ],
      "source": [
        "url = \"https://api.apilayer.com/exchangerates_data/latest?base=EUR&apikey=3d9K1f6rKAGtQ9xjsrMkImBQBmKUVBt9\" #Make sure to change ******* to your API key.\n",
        "html_data = requests.get(url).text\n",
        "data_text = str(html_data).splitlines()[6:-2]\n",
        "\n",
        "print(data_text)"
      ]
    },
    {
      "cell_type": "markdown",
      "metadata": {
        "id": "l9f4fJl69A_L"
      },
      "source": [
        "### Save as DataFrame\n",
        "\n",
        "<b> Question 2</b>  Using the data gathered turn it into a `pandas` dataframe. The dataframe should have the Currency as the index and `Rate` as their columns. Make sure to drop unnecessary columns.\n"
      ]
    },
    {
      "cell_type": "code",
      "execution_count": 13,
      "metadata": {
        "id": "6lW_dUOb9A_L"
      },
      "outputs": [],
      "source": [
        "# Turn the data into a dataframe\n",
        "data = pd.DataFrame(columns = [\"Currency\",\"Rates\"])\n",
        "for row in data_text:\n",
        "    col = row.split(\":\")\n",
        "    Currency = col[0].strip()[1:-1]\n",
        "    Rates = col[1].replace(\",\",\"\")\n",
        "    \n",
        "    \n",
        "    data = data.append({\"Currency\":Currency,\"Rates\":Rates},ignore_index=True)"
      ]
    },
    {
      "cell_type": "code",
      "execution_count": 14,
      "metadata": {
        "id": "GvSi0f_79A_L"
      },
      "outputs": [],
      "source": [
        "# Drop unnescessary columns\n",
        "dataframe.set_index(\"Currency\", inplace=True, drop=True)"
      ]
    },
    {
      "cell_type": "markdown",
      "metadata": {
        "id": "DU2aaqXN9A_M"
      },
      "source": [
        "### Load the Data\n",
        "\n",
        "Using the dataframe save it as a CSV names `exchange_rates_1.csv`.\n"
      ]
    },
    {
      "cell_type": "code",
      "execution_count": 18,
      "metadata": {
        "colab": {
          "base_uri": "https://localhost:8080/"
        },
        "id": "QF7nH_VE9A_M",
        "outputId": "39272cc4-71a5-4846-bf3a-527c2d08dc47"
      },
      "outputs": [
        {
          "output_type": "stream",
          "name": "stdout",
          "text": [
            "    Currency         Rates\n",
            "0        AED      3.930313\n",
            "1        AFN     93.644203\n",
            "2        ALL    114.508653\n",
            "3        AMD    421.359703\n",
            "4        ANG      1.928859\n",
            "..       ...           ...\n",
            "165      YER    267.810592\n",
            "166      ZAR     18.200681\n",
            "167      ZMK   9632.823817\n",
            "168      ZMW     19.382053\n",
            "169      ZWL     344.59451\n",
            "\n",
            "[170 rows x 2 columns]\n"
          ]
        }
      ],
      "source": [
        "# Save the Dataframe\n",
        "data.to_csv('exchange_rates_1.csv')\n",
        "print(data)"
      ]
    },
    {
      "cell_type": "markdown",
      "metadata": {
        "id": "ZVmhOhTz9A_N"
      },
      "source": [
        "Your CSV should be in this format with more currencies\n",
        "\n",
        "|     | Rates      |\n",
        "| --- | ---------- |\n",
        "| AED | 4.398618   |\n",
        "| AFN | 92.917693  |\n",
        "| ALL | 123.099093 |\n",
        "| AMD | 621.935674 |\n",
        "| ANG | 2.149648   |\n"
      ]
    },
    {
      "cell_type": "markdown",
      "metadata": {
        "id": "Vyp96XkL9A_N"
      },
      "source": [
        "## Authors\n"
      ]
    },
    {
      "cell_type": "markdown",
      "metadata": {
        "id": "ifD4uJoK9A_O"
      },
      "source": [
        "Ramesh Sannareddy, Joseph Santarcangelo and Azim Hirjani\n"
      ]
    },
    {
      "cell_type": "markdown",
      "metadata": {
        "id": "AGJNe5YB9A_O"
      },
      "source": [
        "### Other Contributors\n"
      ]
    },
    {
      "cell_type": "markdown",
      "metadata": {
        "id": "-f6dvCyn9A_O"
      },
      "source": [
        "Rav Ahuja\n"
      ]
    },
    {
      "cell_type": "markdown",
      "metadata": {
        "id": "8tyN4pRQ9A_P"
      },
      "source": [
        "## Change Log\n"
      ]
    },
    {
      "cell_type": "markdown",
      "metadata": {
        "id": "47KcmG9C9A_P"
      },
      "source": [
        "| Date (YYYY-MM-DD) | Version | Changed By        | Change Description                              |\n",
        "| ----------------- | ------- | ----------------- | ----------------------------------------------- |\n",
        "| 2022-12-31        | 0.4     | Glory Trizza            | Completed the lab |\n",
        "| 2022-05-06        | 0.3     | Malika            | Updated instructions to get the API and the url |\n",
        "| 2021-04-15        | 0.2     | Malika            | Updated the lab from USD to EUR                 |\n",
        "| 2020-11-25        | 0.1     | Ramesh Sannareddy | Created initial version of the lab              |\n"
      ]
    },
    {
      "cell_type": "markdown",
      "metadata": {
        "id": "WWV6gWKE9A_Q"
      },
      "source": [
        "Copyright © 2020 IBM Corporation. This notebook and its source code are released under the terms of the [MIT License](https://cognitiveclass.ai/mit-license?utm_medium=Exinfluencer&utm_source=Exinfluencer&utm_content=000026UJ&utm_term=10006555&utm_id=NA-SkillsNetwork-Channel-SkillsNetworkCoursesIBMDeveloperSkillsNetworkPY0221ENSkillsNetwork23455645-2022-01-01&cm_mmc=Email_Newsletter-\\_-Developer_Ed%2BTech-\\_-WW_WW-\\_-SkillsNetwork-Courses-IBM-DA0321EN-SkillsNetwork-21426264&cm_mmca1=000026UJ&cm_mmca2=10006555&cm_mmca3=M12345678&cvosrc=email.Newsletter.M12345678&cvo_campaign=000026UJ).\n"
      ]
    }
  ],
  "metadata": {
    "kernelspec": {
      "display_name": "Python 3",
      "language": "python",
      "name": "python3"
    },
    "language_info": {
      "codemirror_mode": {
        "name": "ipython",
        "version": 3
      },
      "file_extension": ".py",
      "mimetype": "text/x-python",
      "name": "python",
      "nbconvert_exporter": "python",
      "pygments_lexer": "ipython3",
      "version": "3.7.6"
    },
    "colab": {
      "provenance": [],
      "include_colab_link": true
    }
  },
  "nbformat": 4,
  "nbformat_minor": 0
}